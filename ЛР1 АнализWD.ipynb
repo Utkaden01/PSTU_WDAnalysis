{
 "cells": [
  {
   "cell_type": "code",
   "execution_count": 1,
   "id": "c91f122a-b3e4-460e-af2d-b269ec576d64",
   "metadata": {},
   "outputs": [],
   "source": [
    "import requests\n",
    "from bs4 import BeautifulSoup\n",
    "import json\n",
    "from graphviz import Digraph\n",
    "import pymorphy3\n",
    "import time"
   ]
  },
  {
   "cell_type": "code",
   "execution_count": 2,
   "id": "2e8d6571-c7a9-4749-b8f3-3391ec3aaf58",
   "metadata": {},
   "outputs": [],
   "source": [
    "morph = pymorphy3.MorphAnalyzer()\n",
    "WIKIPEDIA_API_URL = \"https://ru.wikipedia.org/w/api.php\"\n",
    "TARGET_LANGUAGE = \"ru\"\n",
    "START_PAGE = \"Информатика\"\n",
    "MAX_PAGES = 30"
   ]
  },
  {
   "cell_type": "code",
   "execution_count": 3,
   "id": "09ed03f0-f66a-4cc4-9abf-631dab3860ee",
   "metadata": {},
   "outputs": [],
   "source": [
    "def get_page_data(title):\n",
    "    params = {\n",
    "        \"action\": \"query\",\n",
    "        \"format\": \"json\",\n",
    "        \"titles\": title,\n",
    "        \"prop\": \"extracts|links|images\",\n",
    "        \"explaintext\": True,\n",
    "        \"plnamespace\": 0,\n",
    "        \"pllimit\": \"max\",\n",
    "        \"imlimit\": \"max\"\n",
    "    }\n",
    "    response = requests.get(WIKIPEDIA_API_URL, params=params)\n",
    "    data = response.json()\n",
    "    pages = data.get(\"query\", {}).get(\"pages\", {})\n",
    "    page_data = {}\n",
    "    for page_id, page in pages.items():\n",
    "        page_title = page.get(\"title\", \"\")\n",
    "        extract = page.get(\"extract\", \"\")\n",
    "        links = page.get(\"links\", [])\n",
    "        images = page.get(\"images\", [])\n",
    "        page_data = {\n",
    "            \"title\": page_title,\n",
    "            \"extract\": extract,\n",
    "            \"links\": [link['title'] for link in links],\n",
    "            \"images\": [image['title'] for image in images]\n",
    "        }\n",
    "    return page_data"
   ]
  },
  {
   "cell_type": "code",
   "execution_count": 4,
   "id": "b51af60d-507e-428f-9591-f0c450d09141",
   "metadata": {},
   "outputs": [],
   "source": [
    "def normalize_title(title):\n",
    "    parsed = morph.parse(title)[0]\n",
    "    return parsed.normal_form.title()\n",
    "def collect_data(start_title, max_pages):\n",
    "    collected = {}\n",
    "    to_visit = [start_title]\n",
    "    visited = set()\n",
    "    while to_visit and len(collected) < max_pages:\n",
    "        current_title = to_visit.pop(0)\n",
    "        normalized_title = normalize_title(current_title)\n",
    "        if normalized_title in visited:\n",
    "            continue\n",
    "        print(f'Собираем данные статьи: {normalized_title}')\n",
    "        page_data = get_page_data(normalized_title)\n",
    "        if not page_data:\n",
    "            print(f'Не удалось получить данные для статьи: {normalized_title}')\n",
    "            continue\n",
    "        collected[normalized_title] = page_data\n",
    "        visited.add(normalized_title)\n",
    "        for link in page_data['links']:\n",
    "            normalized_link = normalize_title(link)\n",
    "            if normalized_link not in visited and normalized_link not in to_visit:\n",
    "                to_visit.append(normalized_link)\n",
    "        time.sleep(0.1)\n",
    "    return collected"
   ]
  },
  {
   "cell_type": "code",
   "execution_count": 5,
   "id": "78daa358-abd2-47da-9d2f-bd31ac39e986",
   "metadata": {},
   "outputs": [],
   "source": [
    "def save_to_json(data, filename=\"wikipedia_data.json\"):\n",
    "    with open(filename, \"w\", encoding=\"utf-8\") as f:\n",
    "        json.dump(data, f, ensure_ascii=False, indent=4)\n",
    "    print(f'Данные сохранены в {filename}')"
   ]
  },
  {
   "cell_type": "code",
   "execution_count": 6,
   "id": "5df43e0c-9125-4ecb-befe-2f95a720cd3f",
   "metadata": {},
   "outputs": [],
   "source": [
    "def create_dot_graph(data, filename=\"graph.dot\"):\n",
    "    dot = Digraph(comment='Graph of Wikipedia Articles', format='dot')\n",
    "    for title in data:\n",
    "        dot.node(title, title)\n",
    "    for title, content in data.items():\n",
    "        for link in content['links']:\n",
    "            normalized_link = normalize_title(link)\n",
    "            if normalized_link in data:\n",
    "                dot.edge(title, normalized_link)\n",
    "                dot.save(filename)\n",
    "    print(f'Граф сохранен в {filename}')"
   ]
  },
  {
   "cell_type": "code",
   "execution_count": 7,
   "id": "b892c8c3-870d-45e1-a5c2-0e73c7edda33",
   "metadata": {},
   "outputs": [
    {
     "name": "stdout",
     "output_type": "stream",
     "text": [
      "Собираем данные статьи: Информатика\n",
      "Собираем данные статьи: 1948 Год\n",
      "Собираем данные статьи: 1960-Е Год\n",
      "Собираем данные статьи: 4 Декабрь\n",
      "Собираем данные статьи: Case\n",
      "Собираем данные статьи: Cgi (Графика)\n",
      "Собираем данные статьи: Cmmi\n",
      "Собираем данные статьи: Csab\n",
      "Собираем данные статьи: Capability Maturity Model\n",
      "Собираем данные статьи: Cleanroom Software Engineering\n",
      "Собираем данные статьи: Communications Of The Acm\n",
      "Собираем данные статьи: Computer Science And Engineering\n",
      "Собираем данные статьи: Createspace\n",
      "Собираем данные статьи: Dsdm\n",
      "Собираем данные статьи: Doi\n",
      "Собираем данные статьи: Dual Vee Model\n",
      "Собираем данные статьи: Folding@Home\n",
      "Собираем данные статьи: Function Model\n",
      "Собираем данные статьи: Garland Science\n",
      "Собираем данные статьи: Gemeinsame Normdatei\n",
      "Собираем данные статьи: Http\n",
      "Собираем данные статьи: Ibm\n",
      "Собираем данные статьи: Ibm 704\n",
      "Собираем данные статьи: Idef\n",
      "Собираем данные статьи: Levy, Steven\n",
      "Собираем данные статьи: Microsoft Solutions Framework\n",
      "Собираем данные статьи: Minds And Machines\n",
      "Собираем данные статьи: National Academies Press\n",
      "Собираем данные статьи: Object Model\n",
      "Собираем данные статьи: Openup\n",
      "Данные сохранены в wikipedia_data.json\n",
      "Граф сохранен в graph.dot\n"
     ]
    }
   ],
   "source": [
    "if __name__ == \"__main__\":\n",
    "    data = collect_data(START_PAGE, MAX_PAGES)\n",
    "    save_to_json(data)\n",
    "    create_dot_graph(data)"
   ]
  },
  {
   "cell_type": "code",
   "execution_count": null,
   "id": "9d1d1e88-3b99-4cc4-b7d8-30a51538f87a",
   "metadata": {},
   "outputs": [],
   "source": []
  }
 ],
 "metadata": {
  "kernelspec": {
   "display_name": "Python 3 (ipykernel)",
   "language": "python",
   "name": "python3"
  },
  "language_info": {
   "codemirror_mode": {
    "name": "ipython",
    "version": 3
   },
   "file_extension": ".py",
   "mimetype": "text/x-python",
   "name": "python",
   "nbconvert_exporter": "python",
   "pygments_lexer": "ipython3",
   "version": "3.11.5"
  }
 },
 "nbformat": 4,
 "nbformat_minor": 5
}
