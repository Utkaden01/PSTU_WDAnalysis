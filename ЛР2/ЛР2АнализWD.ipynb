{
 "cells": [
  {
   "cell_type": "code",
   "execution_count": 1,
   "id": "5217073b-78a6-445c-89e3-9035ae15b599",
   "metadata": {},
   "outputs": [],
   "source": [
    "import os\n",
    "import requests\n",
    "from bs4 import BeautifulSoup\n",
    "from urllib.parse import urljoin\n",
    "import zipfile\n",
    "from pypdf import PdfReader\n",
    "from PIL import Image\n",
    "import pytesseract\n",
    "import io"
   ]
  },
  {
   "cell_type": "code",
   "execution_count": 2,
   "id": "901a35f9-94cc-4dbc-9aa6-2befede28f90",
   "metadata": {},
   "outputs": [],
   "source": [
    "def extract_text_from_pdf(pdf_path):\n",
    "    text = \"\"\n",
    "    with open(pdf_path, \"rb\") as pdf_file:\n",
    "        reader = PdfReader(pdf_file)\n",
    "        for page in reader.pages:\n",
    "            text += page.extract_text() or \"\"\n",
    "    return text"
   ]
  },
  {
   "cell_type": "code",
   "execution_count": 3,
   "id": "57d94cfc-6e76-40db-a3f0-51ce6bcdf4f8",
   "metadata": {},
   "outputs": [],
   "source": [
    "def ocr_image(image):\n",
    "    return pytesseract.image_to_string(image)"
   ]
  },
  {
   "cell_type": "code",
   "execution_count": 4,
   "id": "35eaf862-e128-4f2b-ac68-a09a57e3dd4f",
   "metadata": {},
   "outputs": [],
   "source": [
    "def extract_text_from_image(pdf_path):\n",
    "    text = \"\"\n",
    "    with open(pdf_path, \"rb\") as pdf_file:\n",
    "        reader = PdfReader(pdf_file)\n",
    "        for page in reader.pages:\n",
    "            if '/XObject' in page['/Resources']:\n",
    "                xObject = page['/Resources']['/XObject'].get_object()\n",
    "                for obj in xObject:\n",
    "                    if xObject[obj]['/Subtype'] == '/Image':\n",
    "                        data = xObject[obj]._data\n",
    "                        image = Image.open(io.BytesIO(data))\n",
    "                        text += ocr_image(image)\n",
    "    return text"
   ]
  },
  {
   "cell_type": "code",
   "execution_count": 5,
   "id": "518fafa6-9841-4680-a077-8c3ba306d2c0",
   "metadata": {},
   "outputs": [],
   "source": [
    "def save_pdf_and_extract_text(url, base_dir, session):\n",
    "    response = session.get(url)\n",
    "    filename = os.path.join(base_dir, os.path.basename(url))\n",
    "    if not os.path.exists(os.path.dirname(filename)):\n",
    "        os.makedirs(os.path.dirname(filename))\n",
    "    with open(filename, 'wb') as f:\n",
    "        f.write(response.content)\n",
    "    print(f\"Сохранён PDF: {filename}\")    \n",
    "    text = extract_text_from_pdf(filename)    \n",
    "    if not text:\n",
    "        text = extract_text_from_image(filename)\n",
    "    text_filename = f\"{os.path.splitext(filename)[0]}.txt\"\n",
    "    with open(text_filename, 'w', encoding='utf-8') as f:\n",
    "        f.write(text)"
   ]
  },
  {
   "cell_type": "code",
   "execution_count": 6,
   "id": "c64fd5e8-d110-49c0-893c-db108e34d54f",
   "metadata": {},
   "outputs": [],
   "source": [
    "def crawl_and_download_pdfs(url, base_dir, session, visited=None, count=0):\n",
    "    if visited is None:\n",
    "        visited = set()  \n",
    "    if url in visited or count >= 50:\n",
    "        return count\n",
    "    visited.add(url)\n",
    "    response = session.get(url)\n",
    "    soup = BeautifulSoup(response.content, 'html.parser')\n",
    "    links = soup.find_all('a', href=True)\n",
    "    for link in links:\n",
    "        href = link['href']\n",
    "        full_url = urljoin(url, href)    \n",
    "        if full_url.endswith('.pdf'):\n",
    "            save_pdf_and_extract_text(full_url, base_dir, session)\n",
    "            count += 1\n",
    "            if count >= 50:\n",
    "                break\n",
    "        elif base_url in full_url:\n",
    "            count = crawl_and_download_pdfs(full_url, base_dir, session, visited, count)\n",
    "            if count >= 50:\n",
    "                break\n",
    "    return count"
   ]
  },
  {
   "cell_type": "code",
   "execution_count": 7,
   "id": "f694158b-2457-4797-8694-faef5ebb2c68",
   "metadata": {},
   "outputs": [],
   "source": [
    "def create_zip_archive(base_dir, zip_filename):\n",
    "    with zipfile.ZipFile(zip_filename, 'w') as zip_file:\n",
    "        for foldername, subfolders, filenames in os.walk(base_dir):\n",
    "            for filename in filenames:\n",
    "                file_path = os.path.join(foldername, filename)\n",
    "                zip_file.write(file_path, os.path.relpath(file_path, base_dir))\n",
    "    print(f\"Создан ZIP-архив: {zip_filename}\")"
   ]
  },
  {
   "cell_type": "code",
   "execution_count": 8,
   "id": "de8770e7-361b-4ce6-85d8-39879423d951",
   "metadata": {},
   "outputs": [
    {
     "name": "stdout",
     "output_type": "stream",
     "text": [
      "Сохранён PDF: downloaded_pdfs\\opop-soo.pdf\n",
      "Сохранён PDF: downloaded_pdfs\\kalendarnyj-grafik.pdf\n",
      "Сохранён PDF: downloaded_pdfs\\{6ea8912d-e61f-4482-af34-fa4a2444b5d7}.pdf\n",
      "Сохранён PDF: downloaded_pdfs\\{49bad6ff-5e98-4b07-83c3-e90160c13d54}.pdf\n",
      "Сохранён PDF: downloaded_pdfs\\{7967d58c-6a2b-4d1b-9eab-e50b785eff3f}.pdf\n",
      "Сохранён PDF: downloaded_pdfs\\{0963265b-7877-4e70-8232-9e38f68f3c36}.pdf\n",
      "Сохранён PDF: downloaded_pdfs\\{2025042b-7295-42ff-9462-7e5dbf2f7e62}.pdf\n",
      "Сохранён PDF: downloaded_pdfs\\{e035b918-2cca-40be-88e3-ef7b3326daa5}.pdf\n",
      "Сохранён PDF: downloaded_pdfs\\{05c24f0b-0c8a-4c46-97a6-a22429fc8555}.pdf\n",
      "Сохранён PDF: downloaded_pdfs\\{dd1bbf13-4610-452d-a6ad-932a3f8568b9}.pdf\n",
      "Сохранён PDF: downloaded_pdfs\\{92ad979b-1e9a-4296-af3b-9bc96d9c9288}.pdf\n",
      "Сохранён PDF: downloaded_pdfs\\{4ca9c360-2fc1-43e3-9949-bb98d84be786}.pdf\n",
      "Сохранён PDF: downloaded_pdfs\\{192c5a69-8e9e-471e-aabe-44bcd11a797f}.pdf\n",
      "Сохранён PDF: downloaded_pdfs\\{a99858ad-45fa-4766-ad29-f11299a19413}.pdf\n",
      "Сохранён PDF: downloaded_pdfs\\{52b27804-d0bf-4f5f-974a-5a11e18fb22d}.pdf\n",
      "Сохранён PDF: downloaded_pdfs\\{37a93565-5f05-4a84-92eb-ec970d986446}.pdf\n",
      "Сохранён PDF: downloaded_pdfs\\{52581008-7ac9-4946-8720-3f7e50b56afb}.pdf\n",
      "Сохранён PDF: downloaded_pdfs\\{90f63d77-56f7-4f0d-993e-e731172f6a11}.pdf\n",
      "Сохранён PDF: downloaded_pdfs\\{042d6874-6c7d-43fd-8067-91317fb56102}.pdf\n",
      "Сохранён PDF: downloaded_pdfs\\{5acc6d1f-55e6-44fb-bb95-a23f48a4e758}.pdf\n",
      "Сохранён PDF: downloaded_pdfs\\{de16ca2a-8d9e-4f17-9a36-e77aa75bbbd4}.pdf\n",
      "Сохранён PDF: downloaded_pdfs\\{7f00be84-af42-4707-b329-4890cc9fb69e}.pdf\n",
      "Сохранён PDF: downloaded_pdfs\\{e8f0910e-eb09-466e-996e-e5a46d89c442}.pdf\n",
      "Сохранён PDF: downloaded_pdfs\\{dd2a290a-1226-4034-800a-ed75b0c5f362}.pdf\n",
      "Сохранён PDF: downloaded_pdfs\\{57820c8d-2c63-4e6a-b2e4-49075306d6d9}.pdf\n",
      "Сохранён PDF: downloaded_pdfs\\{93a02b70-f16c-4f34-b938-1cc05abcd7bb}.pdf\n",
      "Сохранён PDF: downloaded_pdfs\\{3650edf6-1f9b-4d39-b1aa-99ed6e31488b}.pdf\n",
      "Сохранён PDF: downloaded_pdfs\\{c7eb65c6-ec30-426d-96e7-a1057e143db4}.pdf\n",
      "Сохранён PDF: downloaded_pdfs\\{9ac48367-b292-4757-99ac-e283ad17f314}.pdf\n",
      "Сохранён PDF: downloaded_pdfs\\{cdb6fb9b-e4a8-4ccd-a4bb-f7925047e2cf}.pdf\n",
      "Сохранён PDF: downloaded_pdfs\\{2d048819-9ee4-4cb6-8f98-1f971c785a8a}.pdf\n",
      "Сохранён PDF: downloaded_pdfs\\{8e8632b9-976e-4dbd-b291-62edb171157f}.pdf\n",
      "Сохранён PDF: downloaded_pdfs\\{a7889777-6790-4e91-8c3c-c779e20fbf5f}.pdf\n",
      "Сохранён PDF: downloaded_pdfs\\{b240de0c-d935-473c-a204-9d6aa8fbbcf4}.pdf\n",
      "Сохранён PDF: downloaded_pdfs\\{1d5fc8d8-7eb5-4ff9-afcb-4b4feb898eaa}.pdf\n",
      "Сохранён PDF: downloaded_pdfs\\{c313e639-209e-4a14-9062-659cb92aedec}.pdf\n",
      "Сохранён PDF: downloaded_pdfs\\{03cda77e-84d4-473f-8cee-00fcecfe51e2}.pdf\n",
      "Сохранён PDF: downloaded_pdfs\\{ef13c22d-0063-4891-be59-09a2068746c0}.pdf\n",
      "Сохранён PDF: downloaded_pdfs\\{c1778514-36b6-4240-a2ab-707f3f8c98b6}.pdf\n",
      "Сохранён PDF: downloaded_pdfs\\{92e5d8e0-bde6-492a-9a14-7004e46ba717}.pdf\n",
      "Сохранён PDF: downloaded_pdfs\\{1d92b469-3b37-41fe-af5d-97e58cd94541}.pdf\n",
      "Сохранён PDF: downloaded_pdfs\\{c8ee0644-a9ec-42a6-b8ed-aa2ce01a51ae}.pdf\n",
      "Сохранён PDF: downloaded_pdfs\\{c5dfb44a-1269-42ea-ada2-056893bb6751}.pdf\n",
      "Сохранён PDF: downloaded_pdfs\\{2cb9b7f9-6b66-40fd-bd6f-2baa5e376dad}.pdf\n",
      "Сохранён PDF: downloaded_pdfs\\{c3f3e725-1ad4-4aac-9d6a-df62a76859fe}.pdf\n",
      "Сохранён PDF: downloaded_pdfs\\{54a042b0-410e-4b87-99b1-9eb1ec340721}.pdf\n",
      "Сохранён PDF: downloaded_pdfs\\{877b4e8d-c7f5-4130-9907-cfcaddc9a5dd}.pdf\n",
      "Сохранён PDF: downloaded_pdfs\\{802c94b9-adb8-4eb2-9d05-eeb5a1652093}.pdf\n",
      "Сохранён PDF: downloaded_pdfs\\{4fd3f9cb-c94c-43de-9939-7f44fec219ab}.pdf\n",
      "Сохранён PDF: downloaded_pdfs\\{660f7e68-dcce-4605-b75b-38a98ece9baa}.pdf\n",
      "Создан ZIP-архив: pdfs.zip\n"
     ]
    }
   ],
   "source": [
    "if __name__ == \"__main__\":\n",
    "    base_url = \"https://pstu.ru/sveden/education/\"\n",
    "    base_dir = \"downloaded_pdfs\"\n",
    "    zip_filename = \"pdfs.zip\"\n",
    "    with requests.Session() as session:\n",
    "        crawl_and_download_pdfs(base_url, base_dir, session)    \n",
    "    create_zip_archive(base_dir, zip_filename)"
   ]
  },
  {
   "cell_type": "code",
   "execution_count": null,
   "id": "a7974ace-9d7d-47e0-8a43-f476bb5cfafe",
   "metadata": {},
   "outputs": [],
   "source": []
  }
 ],
 "metadata": {
  "kernelspec": {
   "display_name": "Python 3 (ipykernel)",
   "language": "python",
   "name": "python3"
  },
  "language_info": {
   "codemirror_mode": {
    "name": "ipython",
    "version": 3
   },
   "file_extension": ".py",
   "mimetype": "text/x-python",
   "name": "python",
   "nbconvert_exporter": "python",
   "pygments_lexer": "ipython3",
   "version": "3.11.5"
  }
 },
 "nbformat": 4,
 "nbformat_minor": 5
}
