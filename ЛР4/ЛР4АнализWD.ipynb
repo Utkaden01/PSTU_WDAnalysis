{
 "cells": [
  {
   "cell_type": "code",
   "execution_count": 1,
   "id": "b28f3d13-6910-488c-9caa-dbff03e018ee",
   "metadata": {},
   "outputs": [
    {
     "name": "stdout",
     "output_type": "stream",
     "text": [
      "              Название    Широта   Долгота\n",
      "0             Аэропорт  55.79981  37.53412\n",
      "1        Академическая  55.68808  37.57501\n",
      "2         Алексеевская  55.80737  37.63844\n",
      "3  Александровский сад  55.75219  37.60836\n",
      "4            Алтуфьево  55.89504  37.58605\n"
     ]
    }
   ],
   "source": [
    "import folium\n",
    "import pandas as pd\n",
    "import requests\n",
    "from bs4 import BeautifulSoup\n",
    "from urllib.parse import urljoin\n",
    "import urllib3\n",
    "import webbrowser\n",
    "urllib3.disable_warnings(urllib3.exceptions.InsecureRequestWarning)\n",
    "metro_df = pd.read_csv('metro.tsv', sep='\\t')\n",
    "print(metro_df.head())"
   ]
  },
  {
   "cell_type": "code",
   "execution_count": 2,
   "id": "9b824cdf-78cf-4af6-9208-d5858a3bedd4",
   "metadata": {},
   "outputs": [],
   "source": [
    "def find_metros(url: str) -> list:\n",
    "    try:\n",
    "        response = requests.get(url, verify=False)\n",
    "        response.raise_for_status()\n",
    "    except requests.RequestException as e:\n",
    "        print(f'Не удалось получить данные по URL {url}: {e}')\n",
    "        return []\n",
    "    soup = BeautifulSoup(response.content.decode('utf-8', 'ignore'), 'html.parser')\n",
    "    stations = []\n",
    "    for div in soup.find_all('div', class_='features-item'):\n",
    "        title = div.find('span', class_='features-title')\n",
    "        if title:\n",
    "            text = title.text.rstrip(',').strip()\n",
    "            stations.append(text)\n",
    "    print(f'Найдено {len(stations)} станций на странице {url}.')\n",
    "    return stations"
   ]
  },
  {
   "cell_type": "code",
   "execution_count": 3,
   "id": "427f8cf0-ca4d-40ff-b0eb-5cfb4f7a0f26",
   "metadata": {},
   "outputs": [],
   "source": [
    "def get_districts() -> dict:\n",
    "    base_url = 'https://domokucha.info/moscow_metro_district.html'\n",
    "    try:\n",
    "        response = requests.get(base_url, verify=False)\n",
    "        response.raise_for_status()\n",
    "    except requests.RequestException as e:\n",
    "        print(f'Не удалось получить главную страницу районов: {e}')\n",
    "        return {}\n",
    "    soup = BeautifulSoup(response.content.decode('utf-8', 'ignore'), 'html.parser')\n",
    "    districts = {} \n",
    "    for item in soup.find_all('div', class_='features-item'):\n",
    "        link = item.find('a', href=True)\n",
    "        if link and link['href'].startswith('./moscow_metro'):\n",
    "            district_name = item.find('span', class_='features-title').text.strip()\n",
    "            metro_page_url = urljoin(base_url, link['href'])\n",
    "            stations = find_metros(metro_page_url)\n",
    "            for station in stations:\n",
    "                districts[station.lower()] = district_name\n",
    "    print(f'Сопоставлено {len(districts)} станций с районами.')\n",
    "    return districts"
   ]
  },
  {
   "cell_type": "code",
   "execution_count": 4,
   "id": "2b398c3f-17f8-4c68-ba02-20de25c22d8b",
   "metadata": {},
   "outputs": [],
   "source": [
    "def generate_map(data: pd.DataFrame, districts: dict, map_file: str) -> folium.Map:\n",
    "    moscow_coords = [55.751244, 37.618423]\n",
    "    metro_map = folium.Map(location=moscow_coords, zoom_start=10)\n",
    "    district_colors = {\n",
    "        'Восточный административный округ': 'green',\n",
    "        'Западный административный округ': 'orange',\n",
    "        'Северный административный округ': 'red',\n",
    "        'Северо-Западный административный округ': 'blue',\n",
    "        'Северо-Восточный административный округ': 'pink',\n",
    "        'Центральный административный округ': 'purple',\n",
    "        'Юго-Восточный административный округ': 'beige',\n",
    "        'Юго-Западный административный округ': 'darkblue',\n",
    "        'Южный административный округ': 'yellow'\n",
    "    }\n",
    "    for _, row in data.iterrows():\n",
    "        station = row.get('Название', '').strip()\n",
    "        if not station:\n",
    "            continue\n",
    "        district = districts.get(station.lower(), 'Не найдено')\n",
    "        color = district_colors.get(district, 'lightgray')\n",
    "        lat = row.get('Широта')\n",
    "        lon = row.get('Долгота')\n",
    "        if pd.isnull(lat) or pd.isnull(lon):\n",
    "            print(f'Пропуск станции {station} из-за отсутствия координат.')\n",
    "            continue\n",
    "        folium.Marker(\n",
    "            location=[lat, lon],\n",
    "            popup=f'{station} ({lat}, {lon}) - {district}',\n",
    "            icon=folium.Icon(color=color)\n",
    "        ).add_to(metro_map)\n",
    "    metro_map.save(map_file)\n",
    "    print(f'Карта сохранена в {map_file}.')\n",
    "    return metro_map"
   ]
  },
  {
   "cell_type": "code",
   "execution_count": 5,
   "id": "b31573ed-e26b-4a0a-b81e-20629df89580",
   "metadata": {},
   "outputs": [
    {
     "name": "stdout",
     "output_type": "stream",
     "text": [
      "Найдено 14 станций на странице https://domokucha.info/moscow_metro_01_VAO.html.\n",
      "Найдено 22 станций на странице https://domokucha.info/moscow_metro_02_ZAO.html.\n",
      "Найдено 26 станций на странице https://domokucha.info/moscow_metro_03_SAO.html.\n",
      "Найдено 12 станций на странице https://domokucha.info/moscow_metro_04_SZAO.html.\n",
      "Найдено 26 станций на странице https://domokucha.info/moscow_metro_05_SVAO.html.\n",
      "Найдено 65 станций на странице https://domokucha.info/moscow_metro_06_CAO.html.\n",
      "Найдено 17 станций на странице https://domokucha.info/moscow_metro_07_UVAO.html.\n",
      "Найдено 19 станций на странице https://domokucha.info/moscow_metro_08_UZAO.html.\n",
      "Найдено 25 станций на странице https://domokucha.info/moscow_metro_09_UAO.html.\n",
      "Найдено 2 станций на странице https://domokucha.info/moscow_metro_10_Zelenograd.html.\n",
      "Найдено 9 станций на странице https://domokucha.info/moscow_metro_11_New-moscow.html.\n",
      "Найдено 2 станций на странице https://domokucha.info/moscow_metro_12_Troicky.html.\n",
      "Найдено 2 станций на странице https://domokucha.info/moscow_metro_12_Troicky.html.\n",
      "Сопоставлено 207 станций с районами.\n"
     ]
    },
    {
     "name": "stderr",
     "output_type": "stream",
     "text": [
      "C:\\Users\\utkad\\AppData\\Local\\Temp\\ipykernel_12072\\2195191535.py:29: UserWarning: color argument of Icon should be one of: {'darkred', 'lightgray', 'orange', 'green', 'lightblue', 'lightred', 'pink', 'blue', 'black', 'lightgreen', 'darkpurple', 'purple', 'beige', 'darkblue', 'darkgreen', 'cadetblue', 'red', 'white', 'gray'}.\n",
      "  icon=folium.Icon(color=color)\n"
     ]
    },
    {
     "name": "stdout",
     "output_type": "stream",
     "text": [
      "Карта сохранена в map.html.\n",
      "Открытие карты в веб-браузере.\n"
     ]
    }
   ],
   "source": [
    "def main():\n",
    "    map_file = 'map.html'\n",
    "    districts = get_districts()\n",
    "    if not districts:\n",
    "        print('Отсутствуют данные о районах.')\n",
    "        return\n",
    "    metro_map = generate_map(metro_df, districts, map_file)\n",
    "    try:\n",
    "        webbrowser.open(map_file)\n",
    "        print('Открытие карты в веб-браузере.')\n",
    "    except Exception as e:\n",
    "        print(f'Не удалось открыть карту в браузере: {e}')\n",
    "if __name__ == \"__main__\":\n",
    "    main()"
   ]
  },
  {
   "cell_type": "code",
   "execution_count": null,
   "id": "70acb736-6c42-469c-8765-af4c75fb8726",
   "metadata": {},
   "outputs": [],
   "source": []
  }
 ],
 "metadata": {
  "kernelspec": {
   "display_name": "Python 3 (ipykernel)",
   "language": "python",
   "name": "python3"
  },
  "language_info": {
   "codemirror_mode": {
    "name": "ipython",
    "version": 3
   },
   "file_extension": ".py",
   "mimetype": "text/x-python",
   "name": "python",
   "nbconvert_exporter": "python",
   "pygments_lexer": "ipython3",
   "version": "3.11.5"
  }
 },
 "nbformat": 4,
 "nbformat_minor": 5
}
