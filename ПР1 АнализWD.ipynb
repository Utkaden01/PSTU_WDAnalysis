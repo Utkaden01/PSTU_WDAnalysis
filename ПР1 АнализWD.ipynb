{
 "cells": [
  {
   "cell_type": "code",
   "execution_count": 1,
   "id": "81b7dd2f-bbd3-4f2a-bf43-2209902d6921",
   "metadata": {},
   "outputs": [],
   "source": [
    "import json\n",
    "import requests\n",
    "from urllib.parse import quote_plus, unquote_plus\n",
    "from requests.utils import requote_uri\n",
    "from warcio.archiveiterator import ArchiveIterator\n",
    "from bs4 import BeautifulSoup"
   ]
  },
  {
   "cell_type": "code",
   "execution_count": 2,
   "id": "fc85ced7-5d24-495c-9792-1b0a0e699de4",
   "metadata": {},
   "outputs": [],
   "source": [
    "indices = {\n",
    "    'CC-MAIN-2024-10', 'CC-MAIN-2024-18', 'CC-MAIN-2024-22',\n",
    "    'CC-MAIN-2024-26', 'CC-MAIN-2024-30', 'CC-MAIN-2024-33',\n",
    "    'CC-MAIN-2024-38', 'CC-MAIN-2024-42', 'CC-MAIN-2024-46'\n",
    "}\n",
    "search_query = 'ru.wikipedia.org/*'\n",
    "keywords = [\n",
    "    'Пермь', 'Пермский', 'Пермский Национальный Исследовательский Политехнический Университет', 'ПНИПУ',\n",
    "    'ИТАС', 'МГУ', 'Московский государственный университет', \n",
    "    'МФТИ', 'Физтех', 'Пастернак', 'Борис Пастернак'\n",
    "]"
   ]
  },
  {
   "cell_type": "code",
   "execution_count": 3,
   "id": "58687ef8-ac55-4f95-ae72-41e48e411d93",
   "metadata": {},
   "outputs": [],
   "source": [
    "def search_url(index_name, target_url):\n",
    "    encoded = quote_plus(target_url)\n",
    "    query_url = f'http://index.commoncrawl.org/{index_name}-index?url={encoded}&output=json'\n",
    "    response = requests.get(query_url)\n",
    "    if response.status_code == 200:\n",
    "        lines = response.text.strip().split('\\n')\n",
    "        return [json.loads(line) for line in lines]\n",
    "    return None\n",
    "def get_unique_records(records):\n",
    "    unique_records = {}\n",
    "    for record in records:\n",
    "        url = record.get('url')\n",
    "        if url and url not in unique_records:\n",
    "            unique_records[url] = record\n",
    "    return unique_records"
   ]
  },
  {
   "cell_type": "code",
   "execution_count": 4,
   "id": "62db5247-3877-48b3-8cce-7741cac8e2f2",
   "metadata": {},
   "outputs": [
    {
     "name": "stdout",
     "output_type": "stream",
     "text": [
      "Всего найдено результатов: 122071\n",
      "Уникальных записей: 118477\n"
     ]
    }
   ],
   "source": [
    "all_results = []\n",
    "for index in indices:\n",
    "    found = search_url(index, search_query)\n",
    "    if found:\n",
    "        all_results.extend(found)\n",
    "print(f\"Всего найдено результатов: {len(all_results)}\")\n",
    "unique = get_unique_records(all_results)\n",
    "print(f\"Уникальных записей: {len(unique)}\")"
   ]
  },
  {
   "cell_type": "code",
   "execution_count": 5,
   "id": "0f53dce9-950d-43be-921a-8e9a881b98c8",
   "metadata": {},
   "outputs": [],
   "source": [
    "def fetch_record_content(filename, offset, length):\n",
    "    s3_path = f'https://data.commoncrawl.org/{filename}'\n",
    "    headers = {'Range': f'bytes={offset}-{offset + length - 1}'}\n",
    "    resp = requests.get(s3_path, headers=headers, stream=True)\n",
    "    if resp.status_code == 206:\n",
    "        for record in ArchiveIterator(resp.raw):\n",
    "            if record.rec_type == 'response':\n",
    "                return record.content_stream().read()\n",
    "    else:\n",
    "        print(f\"Ошибка при загрузке данных: {resp.status_code}\")\n",
    "    return None"
   ]
  },
  {
   "cell_type": "code",
   "execution_count": 6,
   "id": "02023db0-883d-42ee-a3c7-614337178c7e",
   "metadata": {},
   "outputs": [
    {
     "name": "stdout",
     "output_type": "stream",
     "text": [
      "Отфильтрованных результатов: 18\n"
     ]
    }
   ],
   "source": [
    "filtered = [\n",
    "    rec for rec in unique.values()\n",
    "    if any(requote_uri(kw) in rec['url'] for kw in keywords)\n",
    "]\n",
    "print(f\"Отфильтрованных результатов: {len(filtered)}\")"
   ]
  },
  {
   "cell_type": "code",
   "execution_count": 7,
   "id": "6bce9329-80e8-44b5-af1a-8adba8848065",
   "metadata": {},
   "outputs": [
    {
     "name": "stdout",
     "output_type": "stream",
     "text": [
      "Найдена статья: Географический факультет МГУ — Википедия; По ссылке: https://ru.wikipedia.org/wiki/Географический_факультет_МГУ\n",
      "Найдено по ключевому слову: МГУ, Московский государственный университет\n",
      "\n",
      "\n",
      "Найдена статья: Геологический факультет МГУ — Википедия; По ссылке: https://ru.wikipedia.org/wiki/Геологический_факультет_МГУ\n",
      "Найдено по ключевому слову: МГУ, Московский государственный университет\n",
      "\n",
      "\n",
      "Найдена статья: Главное здание МГУ — Википедия; По ссылке: https://ru.wikipedia.org/wiki/Главное_здание_МГУ\n",
      "Найдено по ключевому слову: МГУ, Московский государственный университет\n",
      "\n",
      "\n",
      "Найдена статья: Категория:Выпускники исторического факультета МГУ — Википедия; По ссылке: https://ru.wikipedia.org/wiki/Категория:Выпускники_исторического_факультета_МГУ\n",
      "Найдено по ключевому слову: МГУ\n",
      "\n",
      "\n",
      "Найдена статья: Категория:Заслуженные профессора МГУ — Википедия; По ссылке: https://ru.wikipedia.org/wiki/Категория:Заслуженные_профессора_МГУ\n",
      "Найдено по ключевому слову: МГУ\n",
      "\n",
      "\n",
      "Найдена статья: Александровск (Пермский край) — Википедия; По ссылке: https://ru.wikipedia.org/wiki/Александровск_(Пермский_край)\n",
      "Найдено по ключевому слову: Пермь, Пермский\n",
      "\n",
      "\n",
      "Найдена статья: Дом аспиранта и стажёра МГУ — Википедия; По ссылке: https://ru.wikipedia.org/wiki/Дом_аспиранта_и_стажёра_МГУ\n",
      "Найдено по ключевому слову: МГУ, Московский государственный университет\n",
      "\n",
      "\n",
      "Найдена статья: Звезда (футбольный клуб, Пермь) — Википедия; По ссылке: https://ru.wikipedia.org/wiki/Звезда_(футбольный_клуб,_Пермь)\n",
      "Найдено по ключевому слову: Пермь, Пермский\n",
      "\n",
      "\n",
      "Найдена статья: Барда (Пермский край) — Википедия; По ссылке: https://ru.wikipedia.org/wiki/Барда_(Пермский_край)\n",
      "Найдено по ключевому слову: Пермь, Пермский\n",
      "\n",
      "\n",
      "Найдена статья: Башня смерти (Пермь) — Википедия; По ссылке: https://ru.wikipedia.org/wiki/Башня_смерти_(Пермь)\n",
      "Найдено по ключевому слову: Пермь, Пермский\n",
      "\n",
      "\n",
      "Найдена статья: Ельники (Пермский край) — Википедия; По ссылке: https://ru.wikipedia.org/wiki/Ельники_(Пермский_край)\n",
      "Найдено по ключевому слову: Пермь, Пермский\n",
      "\n",
      "\n",
      "Найдена статья: Звёздный (Пермский край) — Википедия; По ссылке: https://ru.wikipedia.org/wiki/Звёздный_(Пермский_край)\n",
      "Найдено по ключевому слову: Пермь, Пермский\n",
      "\n",
      "\n",
      "Найдена статья: Александровск (Пермский край) — Википедия; По ссылке: https://ru.wikipedia.org/wiki/Александровск_(Пермский_край)\n",
      "Найдено по ключевому слову: Пермь, Пермский\n",
      "\n",
      "\n",
      "Найдена статья: Ваньки (Пермский край) — Википедия; По ссылке: https://ru.wikipedia.org/wiki/Ваньки_(Пермский_край)\n",
      "Найдено по ключевому слову: Пермь, Пермский\n",
      "\n",
      "\n",
      "Найдена статья: Берёзовский район (Пермский край) — Википедия; По ссылке: https://ru.wikipedia.org/wiki/Берёзовский_район_(Пермский_край)\n",
      "Найдено по ключевому слову: Пермь, Пермский\n",
      "\n",
      "\n",
      "Найдена статья: Заслуженный профессор МГУ — Википедия; По ссылке: https://ru.wikipedia.org/wiki/Заслуженный_профессор_МГУ\n",
      "Найдено по ключевому слову: МГУ, Московский государственный университет\n",
      "\n",
      "\n",
      "Найдена статья: Ильинский район (Пермский край) — Википедия; По ссылке: https://ru.wikipedia.org/wiki/Ильинский_район_(Пермский_край)\n",
      "Найдено по ключевому слову: Пермь, Пермский\n",
      "\n",
      "\n",
      "Найдена статья: Факультет вычислительной математики и кибернетики МГУ — Википедия; По ссылке: https://ru.wikipedia.org/wiki/ВМК_МГУ\n",
      "Найдено по ключевому слову: МГУ, Московский государственный университет\n",
      "\n",
      "\n"
     ]
    }
   ],
   "source": [
    "html_data = {}\n",
    "for entry in filtered:\n",
    "    content = fetch_record_content(entry['filename'], int(entry['offset']), int(entry['length']))\n",
    "    if content:\n",
    "        html_data[entry['url']] = content\n",
    "for link, html_content in html_data.items():\n",
    "    soup = BeautifulSoup(html_content, 'html.parser')\n",
    "    title = soup.title.string if soup.title else 'Без названия'\n",
    "    readable_url = unquote_plus(link)\n",
    "    print(f'Найдена статья: {title}; По ссылке: {readable_url}')\n",
    "    text = soup.get_text().lower()\n",
    "    found_keywords = [word for word in keywords if word.lower() in text]\n",
    "    if found_keywords:\n",
    "        print(f\"Найдено по ключевому слову: {', '.join(found_keywords)}\")\n",
    "    print(\"\\n\")"
   ]
  },
  {
   "cell_type": "code",
   "execution_count": null,
   "id": "cf58435b-c2af-4fd1-9a8c-6524e77be975",
   "metadata": {},
   "outputs": [],
   "source": []
  }
 ],
 "metadata": {
  "kernelspec": {
   "display_name": "Python 3 (ipykernel)",
   "language": "python",
   "name": "python3"
  },
  "language_info": {
   "codemirror_mode": {
    "name": "ipython",
    "version": 3
   },
   "file_extension": ".py",
   "mimetype": "text/x-python",
   "name": "python",
   "nbconvert_exporter": "python",
   "pygments_lexer": "ipython3",
   "version": "3.11.5"
  }
 },
 "nbformat": 4,
 "nbformat_minor": 5
}
