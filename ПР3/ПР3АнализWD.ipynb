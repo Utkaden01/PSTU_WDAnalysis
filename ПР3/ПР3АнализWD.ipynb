{
 "cells": [
  {
   "cell_type": "code",
   "execution_count": 1,
   "id": "dd738c07-f496-4ed1-b165-55e227a277cd",
   "metadata": {},
   "outputs": [],
   "source": [
    "import os\n",
    "import requests\n",
    "from bs4 import BeautifulSoup\n",
    "from PIL import Image\n",
    "from zipfile import ZipFile\n",
    "import random\n",
    "import io"
   ]
  },
  {
   "cell_type": "code",
   "execution_count": 2,
   "id": "83129c57-4466-4726-a903-731c35396c0c",
   "metadata": {},
   "outputs": [],
   "source": [
    "def download_images(url, min_size=(100, 100), max_size=(3000, 3000)):\n",
    "    headers = {'User-Agent': 'Mozilla/5.0'}\n",
    "    response = requests.get(url, headers=headers)\n",
    "    soup = BeautifulSoup(response.text, 'html.parser')\n",
    "    img_urls = set()\n",
    "    for img in soup.find_all('img'):\n",
    "        img_url = img.get('src')\n",
    "        if img_url and (img_url.endswith('.jpg') or img_url.endswith('.jpeg') or img_url.endswith('.png') or img_url.endswith('.webp')):\n",
    "            try:\n",
    "                img_res = Image.open(io.BytesIO(requests.get(img_url).content))\n",
    "                if (min_size[0] <= img_res.size[0] <= max_size[0]) and (min_size[1] <= img_res.size[1] <= max_size[1]):\n",
    "                    img_urls.add(img_url)\n",
    "            except Exception as e:\n",
    "                print(f'Ошибка при открытии изображения {img_url}: {e}')\n",
    "    zip_filename = 'images.zip'\n",
    "    added_images = set()\n",
    "    with ZipFile(zip_filename, 'w') as zipf:\n",
    "        for img_url in img_urls:\n",
    "            img_data = requests.get(img_url).content\n",
    "            img_name = os.path.basename(img_url)\n",
    "            if img_name not in added_images:\n",
    "                zipf.writestr(img_name, img_data)\n",
    "                added_images.add(img_name)\n",
    "    print(f\"Картинки сохранены в архив '{zip_filename}'\")\n",
    "    return zip_filename"
   ]
  },
  {
   "cell_type": "code",
   "execution_count": 3,
   "id": "86a67f8f-9c7d-40a5-b712-7b3b0e7729ee",
   "metadata": {},
   "outputs": [],
   "source": [
    "def create_yolo_structure(zip_file_path, output_dir, proportions=(0.8, 0.2)):\n",
    "    if not os.path.exists(output_dir):\n",
    "        os.makedirs(output_dir)\n",
    "    train_dir = os.path.join(output_dir, 'train')\n",
    "    val_dir = os.path.join(output_dir, 'val')\n",
    "    os.makedirs(train_dir, exist_ok=True)\n",
    "    os.makedirs(val_dir, exist_ok=True)\n",
    "    with ZipFile(zip_file_path, 'r') as zipf:\n",
    "        zipf.extractall(output_dir)\n",
    "    images = [f for f in os.listdir(output_dir) if f.endswith(('.jpg', '.jpeg', '.png', '.webp'))]\n",
    "    random.shuffle(images)\n",
    "    train_count = int(len(images) * proportions[0])\n",
    "    train_images = images[:train_count]\n",
    "    val_images = images[train_count:]\n",
    "    def safe_rename(src, dest):\n",
    "        base, extension = os.path.splitext(dest)\n",
    "        counter = 1\n",
    "        while os.path.exists(dest):\n",
    "            dest = f\"{base}_{counter}{extension}\"\n",
    "            counter += 1\n",
    "        os.rename(src, dest)\n",
    "    for img in train_images:\n",
    "        safe_rename(os.path.join(output_dir, img), os.path.join(train_dir, img))\n",
    "    for img in val_images:\n",
    "        safe_rename(os.path.join(output_dir, img), os.path.join(val_dir, img))\n",
    "    print(f\"Наборы данных сохранены в папку '{output_dir}'\")"
   ]
  },
  {
   "cell_type": "code",
   "execution_count": 4,
   "id": "7fddd64e-5058-458b-92ca-efde0ebf87f6",
   "metadata": {},
   "outputs": [
    {
     "name": "stdout",
     "output_type": "stream",
     "text": [
      "Ошибка при открытии изображения //c.rdrom.ru/skin/blogs/sq-sm/60-x-60-song-plus.jpg: Invalid URL '//c.rdrom.ru/skin/blogs/sq-sm/60-x-60-song-plus.jpg': No scheme supplied. Perhaps you meant https:////c.rdrom.ru/skin/blogs/sq-sm/60-x-60-song-plus.jpg?\n",
      "Ошибка при открытии изображения //c.rdrom.ru/skin/blogs/sq-sm/60-x-60-moskvich.png: Invalid URL '//c.rdrom.ru/skin/blogs/sq-sm/60-x-60-moskvich.png': No scheme supplied. Perhaps you meant https:////c.rdrom.ru/skin/blogs/sq-sm/60-x-60-moskvich.png?\n",
      "Ошибка при открытии изображения //c.rdrom.ru/skin/blogs/sq-sm/60-x-60-niva.jpg: Invalid URL '//c.rdrom.ru/skin/blogs/sq-sm/60-x-60-niva.jpg': No scheme supplied. Perhaps you meant https:////c.rdrom.ru/skin/blogs/sq-sm/60-x-60-niva.jpg?\n",
      "Ошибка при открытии изображения //c.rdrom.ru/skin/blogs/sq-sm/60-x-60-arkana.jpg: Invalid URL '//c.rdrom.ru/skin/blogs/sq-sm/60-x-60-arkana.jpg': No scheme supplied. Perhaps you meant https:////c.rdrom.ru/skin/blogs/sq-sm/60-x-60-arkana.jpg?\n",
      "Картинки сохранены в архив 'images.zip'\n",
      "Наборы данных сохранены в папку 'yolo_dataset'\n"
     ]
    }
   ],
   "source": [
    "url = 'https://www.drom.ru/'\n",
    "zip_file = download_images(url)\n",
    "create_yolo_structure(zip_file, output_dir='yolo_dataset', proportions=(0.8, 0.2))"
   ]
  }
 ],
 "metadata": {
  "kernelspec": {
   "display_name": "Python 3 (ipykernel)",
   "language": "python",
   "name": "python3"
  },
  "language_info": {
   "codemirror_mode": {
    "name": "ipython",
    "version": 3
   },
   "file_extension": ".py",
   "mimetype": "text/x-python",
   "name": "python",
   "nbconvert_exporter": "python",
   "pygments_lexer": "ipython3",
   "version": "3.11.5"
  }
 },
 "nbformat": 4,
 "nbformat_minor": 5
}
