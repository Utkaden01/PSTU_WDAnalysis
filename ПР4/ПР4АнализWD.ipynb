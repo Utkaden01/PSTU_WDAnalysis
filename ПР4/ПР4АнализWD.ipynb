{
 "cells": [
  {
   "cell_type": "code",
   "execution_count": 1,
   "id": "65b41271-19ed-4910-bfa2-ee9e35e3c98b",
   "metadata": {},
   "outputs": [
    {
     "name": "stdout",
     "output_type": "stream",
     "text": [
      "[download]  25.3% of ~ 827.42MiB at    2.57MiB/s ETA 05:13 (frag 89/349)  "
     ]
    },
    {
     "name": "stderr",
     "output_type": "stream",
     "text": [
      "[download] Got error: timed out\n"
     ]
    },
    {
     "name": "stdout",
     "output_type": "stream",
     "text": [
      "Видео с URL https://rutube.ru/video/1551e0bcd75fef2b92c903d40245f4ef/ успешно сохранено в папку rutube_videos\\1551e0bcd75fef2b92c903d40245f4ef\n",
      "[download]  75.8% of ~ 822.09MiB at    2.97MiB/s ETA 01:38 (frag 287/377)   "
     ]
    },
    {
     "name": "stderr",
     "output_type": "stream",
     "text": [
      "[download] Got error: timed out\n"
     ]
    },
    {
     "name": "stdout",
     "output_type": "stream",
     "text": [
      "Видео с URL https://rutube.ru/video/3b8a6f3729a4d2343b619ce117e1dc34/ успешно сохранено в папку rutube_videos\\3b8a6f3729a4d2343b619ce117e1dc34\n",
      "Видео с URL https://rutube.ru/video/d9017b6b41138d13eaeea3ce978227ed/ успешно сохранено в папку rutube_videos\\d9017b6b41138d13eaeea3ce978227ed\n"
     ]
    }
   ],
   "source": [
    "import os\n",
    "from yt_dlp import YoutubeDL\n",
    "urls = [\n",
    "    \"https://rutube.ru/video/1551e0bcd75fef2b92c903d40245f4ef/\",\n",
    "    \"https://rutube.ru/video/3b8a6f3729a4d2343b619ce117e1dc34/\",\n",
    "    \"https://rutube.ru/video/d9017b6b41138d13eaeea3ce978227ed/\",\n",
    "]\n",
    "BASE_DIR = \"rutube_videos\"\n",
    "os.makedirs(BASE_DIR, exist_ok=True)\n",
    "\n",
    "for url in urls:\n",
    "    try:\n",
    "        video_id = url.rstrip('/').split('/')[-1]\n",
    "        folder_name = video_id\n",
    "        folder_path = os.path.join(BASE_DIR, folder_name)\n",
    "        os.makedirs(folder_path, exist_ok=True)\n",
    "        ydl_opts = {\n",
    "            'outtmpl': os.path.join(folder_path, '%(title)s.%(ext)s'),\n",
    "            'writesubtitles': False,\n",
    "            'writethumbnail': False,\n",
    "            'writeinfojson': False,\n",
    "            'quiet': True,\n",
    "            'no_warnings': True,\n",
    "        }\n",
    "        with YoutubeDL(ydl_opts) as ydl:\n",
    "            info_dict = ydl.extract_info(url, download=False)\n",
    "            metadata_path = os.path.join(folder_path, 'metadata.txt')\n",
    "            with open(metadata_path, 'w', encoding='utf-8') as f:\n",
    "                for key, value in info_dict.items():\n",
    "                    f.write(f\"{key}: {value}n\")\n",
    "\n",
    "            ydl.download([url])\n",
    "\n",
    "        print(f\"Видео с URL {url} успешно сохранено в папку {folder_path}\")\n",
    "\n",
    "    except Exception as e:\n",
    "        print(f\"Ошибка при обработке URL {url}: {e}\")"
   ]
  }
 ],
 "metadata": {
  "kernelspec": {
   "display_name": "Python 3 (ipykernel)",
   "language": "python",
   "name": "python3"
  },
  "language_info": {
   "codemirror_mode": {
    "name": "ipython",
    "version": 3
   },
   "file_extension": ".py",
   "mimetype": "text/x-python",
   "name": "python",
   "nbconvert_exporter": "python",
   "pygments_lexer": "ipython3",
   "version": "3.11.5"
  }
 },
 "nbformat": 4,
 "nbformat_minor": 5
}
